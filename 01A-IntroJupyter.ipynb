{
 "cells": [
  {
   "cell_type": "markdown",
   "metadata": {
    "cell_id": "00000-d1a22c98-2519-40d6-8858-a7407ce90314"
   },
   "source": [
    "# 1A: Introduction to Jupyter Notebooks\n"
   ]
  },
  {
   "cell_type": "markdown",
   "metadata": {
    "cell_id": "00001-f9f4fafb-e37f-4d68-a650-01a90f22177d",
    "tags": []
   },
   "source": [
    "## 1.0 - What is a Jupyter Notebook?"
   ]
  },
  {
   "cell_type": "markdown",
   "metadata": {
    "cell_id": "00002-0ee9a969-841b-4e09-800c-5f132a2bf6db"
   },
   "source": [
    "You have been learning R in the textbook using *DataCamp* exercises and the *DataCamp* sandbox. But real statisticians and data scientists don't use *DataCamp* in their work. They use either RStudio or Jupyter Notebooks. That's why we'll be learning Jupyter Notebooks too!"
   ]
  },
  {
   "cell_type": "markdown",
   "metadata": {
    "cell_id": "00003-9cfa0808-e186-4e86-86a9-61602d2cbbad"
   },
   "source": [
    "So... what is a Jupyter Notebook (JNB)?\n",
    "- It's kind of like a word document made up of different blocks called \"cells\". \n",
    "- There are two kinds of cells: CODE cells and MARKDOWN cells.\n",
    "- The nice thing about a JNB is that when you run some code, the output will appear right below it.\n",
    "- They are a great way to showcase and share your data analyses with others!"
   ]
  },
  {
   "cell_type": "markdown",
   "metadata": {
    "cell_id": "00004-2eb1f11d-6b2b-47d8-924d-12151d1548f3",
    "tags": []
   },
   "source": [
    "Click on this text. This is a MARKDOWN cell. If you double-click inside this cell you can edit it!\n",
    "\n",
    "Try it! Write your name and your favorite food here:\n",
    "\n",
    "\n",
    "\n",
    "(After writing, try hitting SHIFT + RETURN.\n",
    "You could also hit the \"Run\" button at the top of the notebook.)\n"
   ]
  },
  {
   "cell_type": "code",
   "execution_count": null,
   "metadata": {
    "cell_id": "00004-e4bec189-d240-4ec6-a276-3d21dff94a46",
    "output_cleared": false,
    "tags": []
   },
   "outputs": [],
   "source": [
    "# This is a CODE cell!\n",
    "# You can use it as a calculator or for running R code \n",
    "\n",
    "4 * 25\n",
    "\n",
    "# Click inside this code cell\n",
    "# Then press SHIFT + RETURN or \"Run\""
   ]
  },
  {
   "cell_type": "markdown",
   "metadata": {
    "cell_id": "00005-1af8fa7f-3534-48bf-af71-f840c8162091",
    "tags": []
   },
   "source": [
    "Notice that two things happened when you ran the code cell:\n",
    "- The output of the code (100) appeared right below the code.\n",
    "- The `In [ ]` changed to have a number inside of it.\n",
    "\n",
    "Try running the cell again. How does it change? What do you think the number inside `In [ ]` means?"
   ]
  },
  {
   "cell_type": "markdown",
   "metadata": {
    "cell_id": "00007-876b8f70-6429-4747-8120-62f1192d7058",
    "tags": []
   },
   "source": [
    "Notice that when you are editing a MARKDOWN cell, it sometimes looks like code (because the font is different), \n",
    "but it is not the same as R code. It's just regular writing.\n",
    "\n",
    "But MARKDOWN and CODE cells are similar because both kinds of cells need to be \"Run\" (with the \"Run\" button or with SHIFT + RETURN)."
   ]
  },
  {
   "cell_type": "markdown",
   "metadata": {
    "cell_id": "00008-547d8673-f5d3-4334-807e-28e7abc7005d",
    "tags": []
   },
   "source": [
    "## 2.0 - What are JNBs for?"
   ]
  },
  {
   "cell_type": "markdown",
   "metadata": {
    "cell_id": "00004-5446a6b0-4273-41bf-a8ce-3a0197c6ffb7",
    "tags": []
   },
   "source": [
    "Since data science is about answering interesting and important questions using data, \n",
    "these notebooks are a great way to give a report on your data that you can share with others!\n",
    "\n",
    "A good notebook is NOT just a bunch of code and numbers and graphs. \n",
    "\n",
    "A good notebook has regular writing (mixed in with the code, numbers, and graphs) \n",
    "to help people understand the questions you are trying to answer\n",
    "and what you did to answer those questions."
   ]
  },
  {
   "cell_type": "markdown",
   "metadata": {
    "cell_id": "00008-b6247317-f748-478d-a788-3a3b31de54de",
    "tags": []
   },
   "source": [
    "## 3.0 - Adding new MARKDOWN and CODE cells"
   ]
  },
  {
   "cell_type": "markdown",
   "metadata": {
    "cell_id": "00009-a1c337fc-6bb1-430d-acfc-8cfdf6ecac88",
    "tags": []
   },
   "source": [
    "You can insert a new cell anywhere in the notebook.\n",
    "\n",
    "Select this cell by clicking on it (the bar along the left side will turn blue).\n",
    "\n",
    "Then, add a new cell below this one by just pressing the letter **b** on your keyboard.\n",
    "\n",
    "Try it!\n"
   ]
  },
  {
   "cell_type": "markdown",
   "metadata": {
    "cell_id": "00012-5dab1469-eb30-4caa-8462-3dfc2f4e3008",
    "tags": []
   },
   "source": [
    "What kind of cell did you insert?\n",
    "\n",
    "Can you figure out how to change it from Code to Markdown (or from Markdown to Code)? "
   ]
  },
  {
   "cell_type": "markdown",
   "metadata": {
    "cell_id": "00011-c23828d5-6962-4331-8f80-802175536110",
    "tags": []
   },
   "source": [
    "You may also want to delete a cell.\n",
    "\n",
    "Select this cell (side should turn blue). \n",
    "Then delete it by pressing the letters **d d** on your keyboard."
   ]
  },
  {
   "cell_type": "markdown",
   "metadata": {
    "cell_id": "00014-e1c59a7c-cd8d-4570-b020-96289a3dd09a",
    "tags": []
   },
   "source": [
    "## 4.0 - Order Matters"
   ]
  },
  {
   "cell_type": "markdown",
   "metadata": {
    "cell_id": "00015-5a27501e-c940-4b0b-97ae-8ad26326955b"
   },
   "source": [
    "Since a notebook is a way to tell a story, the order of the cells matters, especially for our code cells.\n",
    "\n",
    "One thing to keep in mind is that all the cells in a Jupyter Notebook are connected to each other. So you want to organize your code cells in order from top to bottom. \n",
    "\n",
    "Let's try an example."
   ]
  },
  {
   "cell_type": "code",
   "execution_count": null,
   "metadata": {
    "cell_id": "00015-8d84a2ff-d8a8-498d-b6ad-1b87b7604c7a",
    "output_cleared": false,
    "tags": []
   },
   "outputs": [],
   "source": [
    "# Read this code. Predict which number will print out.\n",
    "\n",
    "mymoney <- 15\n",
    "mymoney <- 2\n",
    "\n",
    "mymoney"
   ]
  },
  {
   "cell_type": "markdown",
   "metadata": {
    "cell_id": "00015-fea6a559-31df-4a73-b771-11362d581a29",
    "tags": []
   },
   "source": [
    "Why did it print that number? "
   ]
  },
  {
   "cell_type": "markdown",
   "metadata": {
    "cell_id": "00016-886cfda2-3d7c-4721-b7ad-9c49560f251c",
    "tags": []
   },
   "source": [
    "Let's say the 2 stands for 2 dollars.\n",
    "\n",
    "Hm, how much would that be in cents instead of dollars?"
   ]
  },
  {
   "cell_type": "code",
   "execution_count": null,
   "metadata": {
    "cell_id": "00016-355f8329-40a9-46e2-9dfc-5722589a568a",
    "output_cleared": false,
    "tags": []
   },
   "outputs": [],
   "source": [
    "# Run this code.\n",
    "\n",
    "mymoney <- mymoney / 100\n",
    "\n",
    "mymoney"
   ]
  },
  {
   "cell_type": "markdown",
   "metadata": {
    "cell_id": "00018-7bc4b7f0-c5cf-4a2f-be5c-522e06db1fa1",
    "tags": []
   },
   "source": [
    "Oops! We made a mistake. \n",
    "\n",
    "Instead of *dividing* by 100, we should have multiplied by 100.\n",
    "\n",
    "Let's change the division sign (/) above into multiplication (*) and re-run the code cell.\n",
    "\n",
    "Do you get a number closer to what is expected? "
   ]
  },
  {
   "cell_type": "markdown",
   "metadata": {
    "cell_id": "00021-496a0969-f874-40c4-87eb-46d2770730d8",
    "tags": []
   },
   "source": [
    "Why not? \n",
    "\n",
    "Well, we still don't get the answer because **mymoney** had our mistake (0.02) in it.\n",
    "So when we ran our code, we multiplied 0.02 with 100... which leads us back to 2.\n",
    "\n",
    "To fix this, go to **Cell** from the menu bar and then select **Run All**. \n",
    "This will re-run all the cells in the whole notebook in order."
   ]
  },
  {
   "cell_type": "markdown",
   "metadata": {
    "cell_id": "00022-1f1f4055-e30f-481e-a206-bc89496cb016",
    "tags": []
   },
   "source": [
    "## 5.0 - Debugging"
   ]
  },
  {
   "cell_type": "markdown",
   "metadata": {
    "cell_id": "00023-f96545e0-b997-4b74-bd2b-a5ae8ff986fb",
    "tags": []
   },
   "source": [
    "Everyone (even experts) will make errors during coding. \n",
    "So a big part programming is debugging code that someone (students, teachers, professionals) wrote."
   ]
  },
  {
   "cell_type": "code",
   "execution_count": null,
   "metadata": {
    "cell_id": "00024-8d7d0110-cd0a-428b-8058-427e95e128cf",
    "tags": []
   },
   "outputs": [],
   "source": [
    "# Run the wrong code first\n",
    "# Then try debugging it\n",
    "\n",
    "farm <- c(\"horse\", \"goat\", \"pig\", \"chicken\")\n",
    "Farm"
   ]
  },
  {
   "cell_type": "code",
   "execution_count": null,
   "metadata": {
    "cell_id": "00025-0a6ebbfc-4043-4311-9f61-39cacedaa31e",
    "tags": []
   },
   "outputs": [],
   "source": [
    "# Can you figure out how to debug this one based on the error message?\n",
    "\n",
    "farm <- c(\"horse\", \"goat\", \"pig\", \"chicken\")\n",
    "jungle <- c(\"jaguar\", elephant\", \"hippo\")\n",
    "\n",
    "animals <- c(farm, jungle)"
   ]
  },
  {
   "cell_type": "code",
   "execution_count": null,
   "metadata": {
    "cell_id": "00026-bee01642-025a-4987-8a9d-540b2fdef6c6",
    "tags": []
   },
   "outputs": [],
   "source": [
    "# Try this one\n",
    "# Does this error message help?\n",
    "\n",
    "farm <- c(\"horse\", \"goat\", \"pig\", \"chicken\")\n",
    "jungle <- c(\"jaguar\", \"elephant\", \"hippo\")\n",
    "\n",
    "animals <- c(farm; jungle)"
   ]
  },
  {
   "cell_type": "code",
   "execution_count": null,
   "metadata": {
    "cell_id": "00027-30741a05-1c2d-463e-a56a-c3d28e329106",
    "tags": []
   },
   "outputs": [],
   "source": [
    "# How about this one?\n",
    "\n",
    "farm[1]\n",
    "animals[\"1\"]"
   ]
  },
  {
   "cell_type": "code",
   "execution_count": null,
   "metadata": {
    "cell_id": "00028-ea90bf5c-41a1-4ac4-85dc-dd6523cc7aaf",
    "tags": []
   },
   "outputs": [],
   "source": [
    "# What happened here?\n",
    "\n",
    "farm[1] == anmals[1]"
   ]
  },
  {
   "cell_type": "markdown",
   "metadata": {
    "cell_id": "00029-b15c66e3-49f6-46cf-babb-e68678b38aaa",
    "tags": []
   },
   "source": [
    "The R error messages tend to use a lot of jargon and are not always easy to understand, so don’t worry if they don’t always make much sense. Just think of them as clues from the computer that you have to figure out! It's kind of like trying to solve a little mystery.\n",
    "\n",
    "In the examples above, what are some coding errors you saw?\n",
    "- describe some of\n",
    "- the errors you\n",
    "- saw here"
   ]
  },
  {
   "cell_type": "markdown",
   "metadata": {
    "cell_id": "00028-86705f21-6cec-4078-9671-74d26b35ce8a"
   },
   "source": [
    "## 6.0 - Explore!"
   ]
  },
  {
   "cell_type": "markdown",
   "metadata": {
    "cell_id": "00031-7aa9e9fa-76c4-4c15-882a-d0aec076fe7b",
    "tags": []
   },
   "source": [
    "If you hover above each of the buttons in the toolbar, you will see text show up to tell you what they are. Try using the buttons to do the following:"
   ]
  },
  {
   "cell_type": "markdown",
   "metadata": {
    "cell_id": "00029-3cede0f9-e66d-419f-9922-11a2f8e83c34",
    "tags": []
   },
   "source": [
    "6.1 - Save your work (frequently)! Which button would you use for that?"
   ]
  },
  {
   "cell_type": "markdown",
   "metadata": {
    "cell_id": "00021-d045ae60-5df1-47c7-ad58-6bc75546344b",
    "tags": []
   },
   "source": [
    "6.2 - Move a cell up or down. "
   ]
  },
  {
   "cell_type": "markdown",
   "metadata": {
    "cell_id": "00022-d5b4492a-d345-444b-b7b0-6ea83bdff45d",
    "tags": []
   },
   "source": [
    "6.3 - Use the buttons to add a cell and delete a cell."
   ]
  },
  {
   "cell_type": "markdown",
   "metadata": {
    "cell_id": "00023-412fe39e-7344-4990-84f9-26ce31da2e4d",
    "tags": []
   },
   "source": [
    "6.4 - Copy a cell and paste it somewhere else in the notebook."
   ]
  },
  {
   "cell_type": "markdown",
   "metadata": {
    "cell_id": "00024-a821abdf-7a5e-40e1-922a-b1ad2f37b23a",
    "tags": []
   },
   "source": [
    "6.5 - What does a **hashtag** (#) at the beginning of a line do in a **markdown** cell? What does it do in a **code** cell?"
   ]
  },
  {
   "cell_type": "markdown",
   "metadata": {
    "cell_id": "00033-96f92065-7487-4a9e-99b9-fe77206a94b5"
   },
   "source": [
    "## 6.0 - Closing up\n",
    "\n",
    "Remember, Jupyter notebooks are for *your use* so you can customize it in a way that is most helpful to YOU! For example, you can add Markdown cells for your own notes or answers; you can write some answers right below questions; you can use comments (that start with #) within code cells to annotate your answers. If any questions come up that you want to ask later, you can write those questions in as well! \n",
    "\n",
    "And finally, when you exit, *be sure to Close and Halt* the notebook instead of just closing the browser. This will ensure that you do not run out of memory. If too many people forget to do this, these jupyter notebooks will be slow for everyone!\n",
    "\n",
    "To close a notebook, go to **File -> Close and Halt**. \n",
    "\n",
    "Maybe say to yourself: **\"Don't be at fault, CLOSE and HALT!\"**"
   ]
  }
 ],
 "metadata": {
  "deepnote_execution_queue": [],
  "deepnote_notebook_id": "4384b575-e36f-4ce6-8b82-47aefa70d439",
  "kernelspec": {
   "display_name": "R",
   "language": "R",
   "name": "ir"
  },
  "language_info": {
   "codemirror_mode": "r",
   "file_extension": ".r",
   "mimetype": "text/x-r-source",
   "name": "R",
   "pygments_lexer": "r",
   "version": "3.6.3"
  },
  "nbsimplegrader": {
   "is_published": false,
   "publish_config": {
    "classes": {},
    "options": {
     "include_submit": false,
     "lock_notebook": false
    },
    "tools": {}
   },
   "should_be_locked": false
  }
 },
 "nbformat": 4,
 "nbformat_minor": 2
}
