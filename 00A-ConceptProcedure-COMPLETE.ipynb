{
  "cells": [
    {
      "metadata": {
        "cell_id": "00000-7fab1228-86d1-45da-8c1f-1057fd840be7",
        "tags": []
      },
      "cell_type": "markdown",
      "source": "<div class=\"alert alert-block alert-danger\">\n\n# <center>00A: Conceptual vs Procedural Understanding of Math (COMPLETE)</center>"
    },
    {
      "metadata": {
        "cell_id": "00001-6be53f75-fdd9-4d26-a610-9047fab7af4c",
        "tags": []
      },
      "cell_type": "markdown",
      "source": "<div class=\"alert alert-block alert-success\">\n\n## Approximate time to complete Notebook: 25-30 Mins"
    },
    {
      "metadata": {
        "cell_id": "00001-589d5c48-5cfa-4e82-9ca3-e39801b75b10",
        "tags": []
      },
      "cell_type": "markdown",
      "source": "## 1.0 - Conceptual?"
    },
    {
      "metadata": {
        "cell_id": "00002-e8c3f0e8-c134-4ed9-ad25-956a256a44a4",
        "tags": []
      },
      "cell_type": "markdown",
      "source": "This class is designed to foster a **conceptual** understanding of math. But what does that mean?"
    },
    {
      "metadata": {
        "cell_id": "00003-7a04c671-4440-4a64-a605-d5090bed622d",
        "tags": []
      },
      "cell_type": "markdown",
      "source": "1.1 - What is a *conceptual* understanding of math?"
    },
    {
      "metadata": {
        "cell_id": "00004-cdabcc03-770a-4dd5-8855-2081491b4226",
        "tags": []
      },
      "cell_type": "markdown",
      "source": "<div class=\"alert alert-block alert-warning\">\n\n**Sample Responses**\n\n- understand what answer means\n- understand why the procedure works\n- be able to explain it\n- (student might have circular answers) understanding concepts, really \"know\" it\n- (some confuse with procedural) getting the correct answer"
    },
    {
      "metadata": {
        "cell_id": "00005-5d74bb1f-810e-477a-b40d-8cc13088e0c7",
        "tags": []
      },
      "cell_type": "markdown",
      "source": "1.2 - What is a *procedural* understanding of math?"
    },
    {
      "metadata": {
        "cell_id": "00006-3da3d58f-6b0f-437e-a27e-ed4e56bc204a",
        "tags": []
      },
      "cell_type": "markdown",
      "source": "<div class=\"alert alert-block alert-warning\">\n\n**Sample Responses**\n\n- know the steps\n- solve problems correctly\n- memorize the rules"
    },
    {
      "metadata": {
        "cell_id": "00007-b198292d-ee81-4f18-b1b8-88bf40533521",
        "tags": []
      },
      "cell_type": "markdown",
      "source": "## 2.0 - The Bean Problem"
    },
    {
      "metadata": {
        "cell_id": "00008-e58e2eb9-64f1-4f5d-9349-fd0e443552e5",
        "tags": []
      },
      "cell_type": "markdown",
      "source": "Read this problem. Instead of solving it, consider two students' approaches to the problem:\n\n> There are two piles of beans.  One pile has 1 white bean out of 3 total beans (the other 2 beans are black), so 1/3 of the beans are white.  The other pile has 6 white beans out of a total of 8 beans (2 beans are black), so 6/8 of the beans are white.  If the two piles are combined, what is the fraction of beans that are white?"
    },
    {
      "metadata": {
        "cell_id": "00009-96c50d0b-3c42-4cf0-8412-6cb7ecf1fc5e",
        "tags": []
      },
      "cell_type": "markdown",
      "source": "2.1 - Here is Student A's solution. Check their math. Are they allowed to do this?\n\n<img src=\"https://imgur.com/fXcfR9I.png\" title=\"Solving Bean Problem using common denominator strategy.\"/>\n"
    },
    {
      "metadata": {
        "cell_id": "00011-ba7e6284-1074-463d-8ce9-b7fde508f71a",
        "tags": []
      },
      "cell_type": "markdown",
      "source": "<div class=\"alert alert-block alert-warning\">\n\n**Sample Responses**\n- Students may disagree.\n- They **are** allowed to do this because they did the right procedures.\n- They **are not** allowed to do this because the answer they get doesn't make any sense. (What does 26/24 mean? 26 white beans out of 24 total beans? There aren't 24 beans anyway. Where did that 24 come from?) "
    },
    {
      "metadata": {
        "cell_id": "00010-7601f2db-e3f6-4bff-939f-bd98069f5d8f",
        "tags": []
      },
      "cell_type": "markdown",
      "source": "2.2 - Here is Student B's solution. Check their math. Are they allowed to do this?\n\n<img src=\"https://imgur.com/sVfykUP.png\" title=\"Solving Bean Problem by adding numerators and adding denominators\"/>"
    },
    {
      "metadata": {
        "cell_id": "00013-c1333b94-8bee-496d-a9d0-2d19c7e89caf",
        "tags": []
      },
      "cell_type": "markdown",
      "source": "<div class=\"alert alert-block alert-warning\">\n\n**Sample Response**\n- Students may disagree.\n- No, they **are not** allowed to do this because you are not supposed to add denominators.\n- Yes, they **are** allowed to do this because it gives us an answer that makes sense. We can just draw it to prove that it is 7 white beans out of 11 total beans. (Wait, why are they allowed to do this? How come this works?)"
    },
    {
      "metadata": {
        "cell_id": "00011-3cda3a28-1b41-480b-a3ce-91907de6f390",
        "tags": []
      },
      "cell_type": "markdown",
      "source": "2.3 - Which student demonstrated *conceptual understanding* of the bean problem? Which student is ultimately right?"
    },
    {
      "metadata": {
        "cell_id": "00015-754df309-98a7-444f-9ecf-5dbf5aa07d3c",
        "tags": []
      },
      "cell_type": "markdown",
      "source": "<div class=\"alert alert-block alert-warning\">\n\n**Sample Response**\n\nStudent B demonstrated conceptual understanding because they did not just automatically apply a procedure without thinking about whether it made sense to do so. Student B is ultimately correct."
    },
    {
      "metadata": {
        "cell_id": "00012-cc00de6f-1c94-4968-91bd-5fef5d07af49",
        "tags": []
      },
      "cell_type": "markdown",
      "source": "2.4 - Why do you think conceptual understanding might be important in statistics and data science?"
    },
    {
      "metadata": {
        "cell_id": "00017-b24cb5bf-09da-43c3-b580-226a3a28cf2e",
        "tags": []
      },
      "cell_type": "markdown",
      "source": "<div class=\"alert alert-block alert-warning\">\n\n**Possible Reasons**\n\n- Because it helps us think more deeply about how to solve a problem\n- It can help prevent incorrect solutions\n- Data science and statistics are more than just a bunch of procedures to memorize, they are also a bunch of interconnected concepts that need to be understood in order to solve problems and answer big (and small!) questions"
    },
    {
      "metadata": {
        "cell_id": "00013-dc84c9cd-439b-491f-89aa-428402edf5f8",
        "tags": []
      },
      "cell_type": "markdown",
      "source": "### By default, please close and halt!"
    }
  ],
  "metadata": {
    "deepnote_execution_queue": [],
    "deepnote_notebook_id": "5991240a-baf6-4bdd-adfd-d851bc5a85c7",
    "kernelspec": {
      "name": "python3",
      "display_name": "Python 3",
      "language": "python"
    },
    "language_info": {
      "name": "python",
      "version": "3.7.3",
      "mimetype": "text/x-python",
      "codemirror_mode": {
        "name": "ipython",
        "version": 3
      },
      "pygments_lexer": "ipython3",
      "nbconvert_exporter": "python",
      "file_extension": ".py"
    }
  },
  "nbformat": 4,
  "nbformat_minor": 2
}